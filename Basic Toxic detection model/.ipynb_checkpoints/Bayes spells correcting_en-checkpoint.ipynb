{
 "cells": [
  {
   "cell_type": "code",
   "execution_count": 2,
   "id": "a2d6aa9a-3360-4120-9888-201c0fe585ae",
   "metadata": {},
   "outputs": [],
   "source": [
    "import re\n",
    "from collections import Counter\n",
    "from collections import defaultdict\n",
    "import pickle"
   ]
  },
  {
   "cell_type": "code",
   "execution_count": null,
   "id": "a02866ae-abf8-4b53-8842-210d0447c541",
   "metadata": {},
   "outputs": [],
   "source": [
    "#original"
   ]
  },
  {
   "cell_type": "code",
   "execution_count": null,
   "id": "15e75791-cd1a-4f6e-8b6b-76ebd5228220",
   "metadata": {},
   "outputs": [],
   "source": [
    "def words(text): return re.findall(r'\\w+', text.lower())\n",
    "\n",
    "WORDS = Counter(words(open('big.txt').read()))\n",
    "\n",
    "def P(word, N=sum(WORDS.values())): \n",
    "    \"Probability of `word`.\"\n",
    "    return WORDS[word] / N\n",
    "\n",
    "def correction(word): \n",
    "    \"Most probable spelling correction for word.\"\n",
    "    return max(candidates(word), key=P)\n",
    "\n",
    "def candidates(word): \n",
    "    \"Generate possible spelling corrections for word.\"\n",
    "    return (known([word]) or known(edits1(word)) or known(edits2(word)) or [word])\n",
    "\n",
    "def known(words): \n",
    "    \"The subset of `words` that appear in the dictionary of WORDS.\"\n",
    "    return set(w for w in words if w in WORDS)\n",
    "\n",
    "def edits1(word):\n",
    "    \"All edits that are one edit away from `word`.\"\n",
    "    letters    = 'abcdefghijklmnopqrstuvwxyz'\n",
    "    splits     = [(word[:i], word[i:])    for i in range(len(word) + 1)]\n",
    "    deletes    = [L + R[1:]               for L, R in splits if R]\n",
    "    transposes = [L + R[1] + R[0] + R[2:] for L, R in splits if len(R)>1]\n",
    "    replaces   = [L + c + R[1:]           for L, R in splits if R for c in letters]\n",
    "    inserts    = [L + c + R               for L, R in splits for c in letters]\n",
    "    return set(deletes + transposes + replaces + inserts)\n",
    "\n",
    "def edits2(word): \n",
    "    \"All edits that are two edits away from `word`.\"\n",
    "    return (e2 for e1 in edits1(word) for e2 in edits1(e1))"
   ]
  },
  {
   "cell_type": "code",
   "execution_count": null,
   "id": "67f2232f-fe34-44a3-9a21-7fcd7294470a",
   "metadata": {},
   "outputs": [],
   "source": [
    "correction('speling')"
   ]
  },
  {
   "cell_type": "code",
   "execution_count": null,
   "id": "99ac13a1-3166-4d01-8410-2c626c00bff8",
   "metadata": {},
   "outputs": [],
   "source": [
    "################ Test Code \n",
    "\n",
    "def unit_tests():\n",
    "    assert correction('speling') == 'spelling'              # insert\n",
    "    assert correction('korrectud') == 'corrected'           # replace 2\n",
    "    assert correction('bycycle') == 'bicycle'               # replace\n",
    "    assert correction('inconvient') == 'inconvenient'       # insert 2\n",
    "    assert correction('arrainged') == 'arranged'            # delete\n",
    "    assert correction('peotry') =='poetry'                  # transpose\n",
    "    assert correction('peotryy') =='poetry'                 # transpose + delete\n",
    "    assert correction('word') == 'word'                     # known\n",
    "    assert correction('quintessential') == 'quintessential' # unknown\n",
    "    assert words('This is a TEST.') == ['this', 'is', 'a', 'test']\n",
    "    assert Counter(words('This is a test. 123; A TEST this is.')) == (\n",
    "           Counter({'123': 1, 'a': 2, 'is': 2, 'test': 2, 'this': 2}))\n",
    "    assert len(WORDS) == 32198\n",
    "    assert sum(WORDS.values()) == 1115585\n",
    "    assert WORDS.most_common(10) == [\n",
    "     ('the', 79809),\n",
    "     ('of', 40024),\n",
    "     ('and', 38312),\n",
    "     ('to', 28765),\n",
    "     ('in', 22023),\n",
    "     ('a', 21124),\n",
    "     ('that', 12512),\n",
    "     ('he', 12401),\n",
    "     ('was', 11410),\n",
    "     ('it', 10681)]\n",
    "    assert WORDS['the'] == 79809\n",
    "    assert P('quintessential') == 0\n",
    "    assert 0.07 < P('the') < 0.08\n",
    "    return 'unit_tests pass'\n",
    "\n",
    "def spelltest(tests, verbose=False):\n",
    "    \"Run correction(wrong) on all (right, wrong) pairs; report results.\"\n",
    "    import time\n",
    "    start = time.clock()\n",
    "    good, unknown = 0, 0\n",
    "    n = len(tests)\n",
    "    for right, wrong in tests:\n",
    "        w = correction(wrong)\n",
    "        good += (w == right)\n",
    "        if w != right:\n",
    "            unknown += (right not in WORDS)\n",
    "            if verbose:\n",
    "                print('correction({}) => {} ({}); expected {} ({})'\n",
    "                      .format(wrong, w, WORDS[w], right, WORDS[right]))\n",
    "    dt = time.clock() - start\n",
    "    print('{:.0%} of {} correct ({:.0%} unknown) at {:.0f} words per second '\n",
    "          .format(good / n, n, unknown / n, n / dt))\n",
    "    \n",
    "def Testset(lines):\n",
    "    \"Parse 'right: wrong1 wrong2' lines into [('right', 'wrong1'), ('right', 'wrong2')] pairs.\"\n",
    "    return [(right, wrong)\n",
    "            for (right, wrongs) in (line.split(':') for line in lines)\n",
    "            for wrong in wrongs.split()]\n"
   ]
  },
  {
   "cell_type": "code",
   "execution_count": null,
   "id": "605af35d-9b8f-4698-adad-9c0348de55b3",
   "metadata": {},
   "outputs": [],
   "source": [
    "if __name__ == '__main__':\n",
    "    print(unit_tests())\n",
    "    spelltest(Testset(open('spell-testset1.txt')))\n",
    "    spelltest(Testset(open('spell-testset2.txt')))"
   ]
  },
  {
   "cell_type": "code",
   "execution_count": null,
   "id": "701d4f01-3aa5-4a67-b065-b8734eb6968c",
   "metadata": {},
   "outputs": [],
   "source": [
    "#modified"
   ]
  },
  {
   "cell_type": "code",
   "execution_count": null,
   "id": "9f5d815c-d949-49b8-b42d-da54fb75b8f2",
   "metadata": {},
   "outputs": [],
   "source": [
    "alphabet = u'абвгдеёжзийклмнопрстуфхцчшщъыьэюя'"
   ]
  },
  {
   "cell_type": "code",
   "execution_count": null,
   "id": "9c4591ba-d4ee-4b99-819e-a99b125a9f3d",
   "metadata": {},
   "outputs": [],
   "source": [
    "stored_dict=pickle.load(open(\"dictionary.p\", rb)) #чтение файла"
   ]
  },
  {
   "cell_type": "code",
   "execution_count": null,
   "id": "768cd813-5db2-40bb-b687-79e32e0b3cfe",
   "metadata": {},
   "outputs": [],
   "source": [
    "vocab = defaultdict(lambda: 1)               #подсчет кол-ва слов в нашем источнике\n",
    "for key, value in stored_dict,iteritems():\n",
    "    vocab[key] += value"
   ]
  },
  {
   "cell_type": "code",
   "execution_count": null,
   "id": "84a51d37-7d84-4ce8-8744-7a2ce639d2f3",
   "metadata": {},
   "outputs": [],
   "source": [
    "#правки слов на расстоянии одного символа. Чем больше правок требуется, тем меньше вероятность соответствия слову. Модель ошибок\n",
    "\n",
    "def edits1(word):                                            \n",
    "    \"All edits that are one edit away from `word`.\"\n",
    "    letters    = 'abcdefghijklmnopqrstuvwxyz'\n",
    "    splits     = [(word[:i], word[i:])    for i in range(len(word) + 1)]\n",
    "    deletes    = [L + R[1:]               for L, R in splits if R]\n",
    "    transposes = [L + R[1] + R[0] + R[2:] for L, R in splits if len(R)>1]\n",
    "    replaces   = [L + c + R[1:]           for L, R in splits if R for c in letters]\n",
    "    inserts    = [L + c + R               for L, R in splits for c in letters]\n",
    "    return set(deletes + transposes + replaces + inserts)"
   ]
  },
  {
   "cell_type": "code",
   "execution_count": null,
   "id": "ff5f21c7-3fe9-4f21-942b-5032e7201c85",
   "metadata": {},
   "outputs": [],
   "source": [
    "#правки слов на расстоянии двух символов\n",
    "\n",
    "def edits2(word): \n",
    "    \"All edits that are two edits away from `word`.\"\n",
    "    return (e2 for e1 in edits1(word) for e2 in edits1(e1))"
   ]
  }
 ],
 "metadata": {
  "kernelspec": {
   "display_name": "Python 3 (ipykernel)",
   "language": "python",
   "name": "python3"
  },
  "language_info": {
   "codemirror_mode": {
    "name": "ipython",
    "version": 3
   },
   "file_extension": ".py",
   "mimetype": "text/x-python",
   "name": "python",
   "nbconvert_exporter": "python",
   "pygments_lexer": "ipython3",
   "version": "3.8.13"
  }
 },
 "nbformat": 4,
 "nbformat_minor": 5
}
