{
 "cells": [
  {
   "cell_type": "code",
   "execution_count": 2,
   "id": "a2d6aa9a-3360-4120-9888-201c0fe585ae",
   "metadata": {},
   "outputs": [],
   "source": [
    "import re\n",
    "from collections import Counter\n",
    "from collections import defaultdict\n",
    "import pickle"
   ]
  },
  {
   "cell_type": "code",
   "execution_count": null,
   "id": "9f5d815c-d949-49b8-b42d-da54fb75b8f2",
   "metadata": {},
   "outputs": [],
   "source": [
    "alphabet = u'абвгдеёжзийклмнопрстуфхцчшщъыьэюя'"
   ]
  },
  {
   "cell_type": "code",
   "execution_count": null,
   "id": "9c4591ba-d4ee-4b99-819e-a99b125a9f3d",
   "metadata": {},
   "outputs": [],
   "source": [
    "stored_dict=pickle.load(open(\"dictionary.p\", rb)) #чтение файла"
   ]
  },
  {
   "cell_type": "code",
   "execution_count": null,
   "id": "768cd813-5db2-40bb-b687-79e32e0b3cfe",
   "metadata": {},
   "outputs": [],
   "source": [
    "vocab = defaultdict(lambda: 1)               #подсчет кол-ва слов в нашем источнике\n",
    "for key, value in stored_dict,iteritems():\n",
    "    vocab[key] += value"
   ]
  },
  {
   "cell_type": "code",
   "execution_count": null,
   "id": "84a51d37-7d84-4ce8-8744-7a2ce639d2f3",
   "metadata": {},
   "outputs": [],
   "source": [
    "#правки слов на расстоянии одного символа. Чем больше правок требуется, тем меньше вероятность соответствия слову. Модель ошибок\n",
    "\n",
    "def edits1(word):                                            \n",
    "    \"All edits that are one edit away from `word`.\"\n",
    "    letters    = 'abcdefghijklmnopqrstuvwxyz'\n",
    "    splits     = [(word[:i], word[i:])    for i in range(len(word) + 1)]\n",
    "    deletes    = [L + R[1:]               for L, R in splits if R]\n",
    "    transposes = [L + R[1] + R[0] + R[2:] for L, R in splits if len(R)>1]\n",
    "    replaces   = [L + c + R[1:]           for L, R in splits if R for c in letters]\n",
    "    inserts    = [L + c + R               for L, R in splits for c in letters]\n",
    "    return set(deletes + transposes + replaces + inserts)"
   ]
  },
  {
   "cell_type": "code",
   "execution_count": null,
   "id": "ff5f21c7-3fe9-4f21-942b-5032e7201c85",
   "metadata": {},
   "outputs": [],
   "source": [
    "#правки слов на расстоянии двух символов\n",
    "\n",
    "def edits2(word): \n",
    "    \"All edits that are two edits away from `word`.\"\n",
    "    return (e2 for e1 in edits1(word) for e2 in edits1(e1))"
   ]
  }
 ],
 "metadata": {
  "kernelspec": {
   "display_name": "Python 3 (ipykernel)",
   "language": "python",
   "name": "python3"
  },
  "language_info": {
   "codemirror_mode": {
    "name": "ipython",
    "version": 3
   },
   "file_extension": ".py",
   "mimetype": "text/x-python",
   "name": "python",
   "nbconvert_exporter": "python",
   "pygments_lexer": "ipython3",
   "version": "3.8.13"
  }
 },
 "nbformat": 4,
 "nbformat_minor": 5
}
